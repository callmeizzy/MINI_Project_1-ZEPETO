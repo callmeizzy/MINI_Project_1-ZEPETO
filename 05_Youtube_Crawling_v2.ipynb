{
 "cells": [
  {
   "cell_type": "markdown",
   "id": "d1ff2875-15bf-4fb2-b5f9-12b55b5b7d5b",
   "metadata": {},
   "source": [
    "# 0 YouTube Crawling"
   ]
  },
  {
   "cell_type": "markdown",
   "id": "bb281e26-e49e-4070-a669-5d1fdaa32d7f",
   "metadata": {},
   "source": [
    "#### 유튜브 내 검색 결과의 콘텐츠 정보 자동화를 통하여 '제페토커스텀' 과 관련한 영상과 조회수를 알아본다"
   ]
  },
  {
   "cell_type": "markdown",
   "id": "1cb06d5c-6bbf-4693-8dc1-bfe6f07c3b40",
   "metadata": {},
   "source": [
    "# 1 라이브러리 로드 "
   ]
  },
  {
   "cell_type": "code",
   "execution_count": 1,
   "id": "cdc455c6-a664-46b5-a70f-c24d96129457",
   "metadata": {},
   "outputs": [],
   "source": [
    "# 최신 크롬 드라이버 사용하도록 세팅: 현재 OS에 설치된 크롬 브라우저 버전에 맞게 cache에 드라이버 설치\n",
    "from selenium import webdriver\n",
    "from selenium.webdriver.chrome.options import Options\n",
    "from selenium.webdriver import ActionChains\n",
    "from selenium.webdriver.common.keys import Keys\n",
    "from selenium.webdriver.common.by import By\n",
    "from selenium.webdriver.support.ui import WebDriverWait\n",
    "from webdriver_manager.chrome import ChromeDriverManager\n",
    "from selenium.webdriver.support import expected_conditions as EC"
   ]
  },
  {
   "cell_type": "code",
   "execution_count": 2,
   "id": "f2ba33ee-d73f-4992-ab15-e95470d311ad",
   "metadata": {},
   "outputs": [
    {
     "name": "stdout",
     "output_type": "stream",
     "text": [
      "\n"
     ]
    },
    {
     "name": "stderr",
     "output_type": "stream",
     "text": [
      "[WDM] - ====== WebDriver manager ======\n",
      "[WDM] - Current google-chrome version is 103.0.5060\n",
      "[WDM] - Get LATEST chromedriver version for 103.0.5060 google-chrome\n",
      "[WDM] - Driver [C:\\Users\\LG\\.wdm\\drivers\\chromedriver\\win32\\103.0.5060.134\\chromedriver.exe] found in cache\n"
     ]
    }
   ],
   "source": [
    "# 최신 크롬 드라이버 사용하도록 세팅: 현재 OS에 설치된 크롬 브라우저 버전에 맞게 cache에 드라이버 설치\n",
    "from selenium.webdriver.chrome.service import Service\n",
    "service = Service(ChromeDriverManager().install())"
   ]
  },
  {
   "cell_type": "code",
   "execution_count": 12,
   "id": "c84e52a6-1bb7-4021-8610-0f213ef1b013",
   "metadata": {},
   "outputs": [],
   "source": [
    "#판다스를 통하여 수집한 데이터들을 데이터프레임으로 만들어 줄 예정이다\n",
    "import time\n",
    "import random\n",
    "import os\n",
    "import pandas as pd"
   ]
  },
  {
   "cell_type": "code",
   "execution_count": 4,
   "id": "812d3cb5-1bd9-4f07-b993-2e78e7a149af",
   "metadata": {},
   "outputs": [],
   "source": [
    "class YoutubeCrawler:\n",
    "    def __init__(self):\n",
    "        self._opts = Options()\n",
    "        # self._opts.add_argument(\"headless\")\n",
    "        self._opts.add_argument(\"window-size=1920x1080\")\n",
    "        self._opts.add_argument(\"disable-gpu\")\n",
    "        self._opts.add_argument(\"--no-sandbox\")\n",
    "        self._opts.add_argument(\"user-agent=Mozilla/5.0 (Macintosh; Intel Mac OS X 10_12_6) AppleWebKit/537.36 (KHTML, like Gecko) Chrome/61.0.3163.100 Safari/537.36\")\n",
    "        #if conf.binary_location is not None:\n",
    "        #    self._opts.binary_location = conf.binary_location\n",
    "        self._driver = webdriver.Chrome(service=Service(ChromeDriverManager().install()), options=self._opts)\n",
    "        self._driver.implicitly_wait(3)\n",
    "        time.sleep(3)\n",
    "    \n",
    "    @property\n",
    "    def driver(self):\n",
    "        return self._driver"
   ]
  },
  {
   "cell_type": "markdown",
   "id": "8f441d6b-1608-4d0e-a567-611509837c41",
   "metadata": {},
   "source": [
    "# 2 데이터 스크랩"
   ]
  },
  {
   "cell_type": "code",
   "execution_count": 5,
   "id": "e6f358d2-6789-449c-ba01-198320922268",
   "metadata": {},
   "outputs": [],
   "source": [
    "search_keywords = []\n",
    "search_keywords.append('제페토 커스텀')\n",
    "search_keywords.append('제페토')"
   ]
  },
  {
   "cell_type": "code",
   "execution_count": 13,
   "id": "8f22dcc0-cd4a-43a3-b532-2e1ccaa47d09",
   "metadata": {},
   "outputs": [
    {
     "name": "stdout",
     "output_type": "stream",
     "text": [
      "\n"
     ]
    },
    {
     "name": "stderr",
     "output_type": "stream",
     "text": [
      "[WDM] - ====== WebDriver manager ======\n",
      "[WDM] - Current google-chrome version is 103.0.5060\n",
      "[WDM] - Get LATEST chromedriver version for 103.0.5060 google-chrome\n",
      "[WDM] - About to download new driver from https://chromedriver.storage.googleapis.com/103.0.5060.134/chromedriver_win32.zip\n",
      "[WDM] - Driver has been saved in cache [C:\\Users\\LG\\.wdm\\drivers\\chromedriver\\win32\\103.0.5060.134]\n"
     ]
    },
    {
     "ename": "NameError",
     "evalue": "name 'columns' is not defined",
     "output_type": "error",
     "traceback": [
      "\u001b[1;31m---------------------------------------------------------------------------\u001b[0m",
      "\u001b[1;31mNameError\u001b[0m                                 Traceback (most recent call last)",
      "\u001b[1;32m~\\AppData\\Local\\Temp/ipykernel_2576/3395724801.py\u001b[0m in \u001b[0;36m<module>\u001b[1;34m\u001b[0m\n\u001b[0;32m      1\u001b[0m \u001b[0mcrawler\u001b[0m \u001b[1;33m=\u001b[0m \u001b[0mYoutubeCrawler\u001b[0m\u001b[1;33m(\u001b[0m\u001b[1;33m)\u001b[0m\u001b[1;33m\u001b[0m\u001b[1;33m\u001b[0m\u001b[0m\n\u001b[0;32m      2\u001b[0m \u001b[1;33m\u001b[0m\u001b[0m\n\u001b[1;32m----> 3\u001b[1;33m \u001b[0mdf\u001b[0m \u001b[1;33m=\u001b[0m \u001b[0mpd\u001b[0m\u001b[1;33m.\u001b[0m\u001b[0mDataFrame\u001b[0m\u001b[1;33m(\u001b[0m\u001b[0mcolumns\u001b[0m \u001b[1;33m=\u001b[0m \u001b[0mcolumns\u001b[0m\u001b[1;33m)\u001b[0m\u001b[1;33m\u001b[0m\u001b[1;33m\u001b[0m\u001b[0m\n\u001b[0m\u001b[0;32m      4\u001b[0m \u001b[0mcolumns\u001b[0m \u001b[1;33m=\u001b[0m \u001b[1;33m[\u001b[0m\u001b[1;34m'title'\u001b[0m\u001b[1;33m,\u001b[0m \u001b[1;34m'viewcount'\u001b[0m\u001b[1;33m]\u001b[0m\u001b[1;33m\u001b[0m\u001b[1;33m\u001b[0m\u001b[0m\n\u001b[0;32m      5\u001b[0m \u001b[1;32mfor\u001b[0m \u001b[0msearch_keyword\u001b[0m \u001b[1;32min\u001b[0m \u001b[0msearch_keywords\u001b[0m\u001b[1;33m:\u001b[0m\u001b[1;33m\u001b[0m\u001b[1;33m\u001b[0m\u001b[0m\n",
      "\u001b[1;31mNameError\u001b[0m: name 'columns' is not defined"
     ]
    }
   ],
   "source": [
    "crawler = YoutubeCrawler()\n",
    "\n",
    "df = pd.DataFrame(columns = columns)\n",
    "\n",
    "for search_keyword in search_keywords:\n",
    "    url = 'https://www.youtube.com/results?search_query='\n",
    "    param = '+'.join(search_keyword.split(\" \"))\n",
    "    url = url + param\n",
    "\n",
    "    crawler.driver.implicitly_wait(3)\n",
    "    crawler.driver.get(url)\n",
    "\n",
    "    ######\n",
    "    time.sleep(5)\n",
    "\n",
    "    crawler.driver.implicitly_wait(1)\n",
    "    scroll_count = 500\n",
    "    for _ in range(scroll_count):\n",
    "        crawler.driver.execute_script(\"window.scrollTo(0, 999999);\")\n",
    "        time.sleep(0.1)\n",
    "\n",
    "    columns = ['title', 'viewcount']\n",
    "    contents_el = crawler.driver.find_elements(By.CSS_SELECTOR, \"#contents\")\n",
    "    crawler.driver.implicitly_wait(0)\n",
    "    for content_el in contents_el:\n",
    "        rows_el = content_el.find_elements(By.CSS_SELECTOR, \"ytd-video-renderer\")\n",
    "        for row_el in rows_el:\n",
    "            title_el = row_el.find_elements(By.CSS_SELECTOR, \"#video-title\")\n",
    "            viewcount_el = row_el.find_elements(By.CSS_SELECTOR, \"#metadata-line > span:nth-child(1)\")\n",
    "            if len(title_el) > 0 and len(viewcount_el) > 0:\n",
    "                row = pandas.DataFrame([title_el[0].text, viewcount_el[0].text]).T\n",
    "                row.columns = columns\n",
    "                if row['title'][0] not in list(df['title']):\n",
    "                    df = pandas.concat([df, row])\n",
    "\n",
    "df.to_csv(\"all.csv\")"
   ]
  },
  {
   "cell_type": "markdown",
   "id": "1775b3df-efef-43f6-aec0-7a34461cb787",
   "metadata": {},
   "source": [
    "# 4 데이터 추출"
   ]
  },
  {
   "cell_type": "markdown",
   "id": "83a23e99-7c11-452d-a31a-aef35a6fff3d",
   "metadata": {},
   "source": [
    "# 5 데이터프레임 저장"
   ]
  },
  {
   "cell_type": "code",
   "execution_count": null,
   "id": "3ba7d77d-e80e-4b4d-aa63-536ad5df2aa8",
   "metadata": {},
   "outputs": [],
   "source": []
  }
 ],
 "metadata": {
  "kernelspec": {
   "display_name": "Python 3 (ipykernel)",
   "language": "python",
   "name": "python3"
  },
  "language_info": {
   "codemirror_mode": {
    "name": "ipython",
    "version": 3
   },
   "file_extension": ".py",
   "mimetype": "text/x-python",
   "name": "python",
   "nbconvert_exporter": "python",
   "pygments_lexer": "ipython3",
   "version": "3.9.7"
  }
 },
 "nbformat": 4,
 "nbformat_minor": 5
}

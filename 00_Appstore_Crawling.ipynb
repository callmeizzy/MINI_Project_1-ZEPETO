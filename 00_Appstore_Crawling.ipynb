{
 "cells": [
  {
   "cell_type": "markdown",
   "id": "c86a1f06-1034-4206-b67d-e828b30f28d6",
   "metadata": {},
   "source": [
    "# 0 app store crawling"
   ]
  },
  {
   "cell_type": "code",
   "execution_count": 6,
   "id": "5107c393-b813-4242-99a3-91c4f2c4ba07",
   "metadata": {},
   "outputs": [
    {
     "data": {
      "text/plain": [
       "'C:\\\\Users\\\\LG\\\\zepeto'"
      ]
     },
     "execution_count": 6,
     "metadata": {},
     "output_type": "execute_result"
    }
   ],
   "source": [
    "import os\n",
    "os.getcwd()"
   ]
  },
  {
   "cell_type": "code",
   "execution_count": 7,
   "id": "a3b12001-94c5-4f44-b5db-d0e91d5eeadf",
   "metadata": {},
   "outputs": [],
   "source": [
    "# 핑크색 warning 안내문 방지 \n",
    "import warnings\n",
    "warnings.filterwarnings('ignore')"
   ]
  },
  {
   "cell_type": "code",
   "execution_count": 8,
   "id": "bd543a44-4853-471a-83ea-1c4f34df94c0",
   "metadata": {},
   "outputs": [],
   "source": [
    "import pandas as pd\n",
    "import numpy as np\n",
    "import seaborn as sns\n",
    "import matplotlib.pyplot as plt"
   ]
  },
  {
   "cell_type": "markdown",
   "id": "f68a3ff3-8316-4b1b-98ec-c5ac98b4eee4",
   "metadata": {
    "tags": []
   },
   "source": [
    "# 1 크롤링에 필요한 라이브러리를 불러옵니다"
   ]
  },
  {
   "cell_type": "code",
   "execution_count": 9,
   "id": "1e1aff52-7af2-4fd8-af0e-90956f19c815",
   "metadata": {},
   "outputs": [],
   "source": [
    "import chromedriver_autoinstaller\n",
    "import time\n",
    "from selenium import webdriver\n",
    "from bs4 import BeautifulSoup as bs\n",
    "import csv"
   ]
  },
  {
   "cell_type": "markdown",
   "id": "96677df3-dd2b-4466-a606-097c46515667",
   "metadata": {},
   "source": [
    "# 2 국내 유저 리뷰 크롤링 "
   ]
  },
  {
   "cell_type": "markdown",
   "id": "06504b8e-f8f1-4d8d-a1fb-e2d975f64fa8",
   "metadata": {},
   "source": [
    "####  apple appstore는 크롤링을 할 수 있는 api를 제공하고 있다 \n",
    "https://www.apptweak.io/documentation/ios/application_reviews_filtered"
   ]
  },
  {
   "cell_type": "markdown",
   "id": "8d027572-034c-4b98-bf2b-78f9f4677082",
   "metadata": {},
   "source": [
    "#### 제페토 apple appstore id\n",
    "https://apps.apple.com/app/id1350301428\n",
    "#### 제페토 googelp play id\n",
    "https://play.google.com/store/apps/details?id=me.zepeto.main"
   ]
  },
  {
   "cell_type": "markdown",
   "id": "68fd7832-96e2-4ab2-a84b-29e1bcdb6eda",
   "metadata": {
    "tags": []
   },
   "source": [
    "## 2.1 RSS를 이용하여 앱스토어 리뷰 크롤링 (XML 형식)"
   ]
  },
  {
   "cell_type": "code",
   "execution_count": 10,
   "id": "6d9e4fe6-c989-408e-b7b9-62a9c67fee9a",
   "metadata": {},
   "outputs": [],
   "source": [
    "# 모듈 로딩\n",
    "\n",
    "import pandas as pd #크롤링한 데이터를 데이터프레임으로 담아줄 것\n",
    "\n",
    "import xmltodict #xml 파싱을 위한 모듈\n",
    "from urllib.request import urlopen # url을 이용하여 웹상의 데이터를 가져올 irllib.request\n",
    "import json #xmltodict의 결과물을 dict로 바꾸기 위함 "
   ]
  },
  {
   "cell_type": "markdown",
   "id": "196e08e0-d44c-4597-9353-d1da7ac42274",
   "metadata": {
    "tags": []
   },
   "source": [
    "### 2.1.1 Get Data from URL (page 1 파싱)"
   ]
  },
  {
   "cell_type": "code",
   "execution_count": null,
   "id": "517debed-eb4f-44da-aceb-31ced16ed1d4",
   "metadata": {
    "scrolled": true,
    "tags": []
   },
   "outputs": [],
   "source": [
    "# 하단 url로 접속해서 xml데이터를 파싱할 것임 \n",
    "#reopen 함수를 사용하여 해당urk이 가지는 값을 가져온다\n",
    "url = 'https://itunes.apple.com/kr/rss/customerreviews/page=1/id=1350301428/sortby=mostrecent/xml?urlDesc=/customerreviews/id=1350301428/sortBy=mostRecent/xml'\n",
    "response = urlopen(url).read()\n",
    "response"
   ]
  },
  {
   "cell_type": "markdown",
   "id": "b717cfbc-3edc-4dfa-b73d-7dec5b2217ad",
   "metadata": {},
   "source": [
    "### 2.1.2 Parsing XML"
   ]
  },
  {
   "cell_type": "code",
   "execution_count": null,
   "id": "74d84120-42f7-4d79-9505-e9e9bb875087",
   "metadata": {},
   "outputs": [],
   "source": [
    "xml = xmltodict.parse(response)\n",
    "XmlToJson = json.loads(json.dumps(xml))"
   ]
  },
  {
   "cell_type": "markdown",
   "id": "c48b341d-7faf-4de4-92e1-848c1b330fb2",
   "metadata": {},
   "source": [
    "### 2.1.3 파싱한 xml 데이터를 내가 원하는대로 바꾸기"
   ]
  },
  {
   "cell_type": "code",
   "execution_count": null,
   "id": "9e404276-f4d3-4735-8280-f3eb639d2daf",
   "metadata": {},
   "outputs": [],
   "source": [
    "res_dict = []\n",
    "\n",
    "for i in range(len(XmlToJson['feed']['entry'])):\n",
    "    res_dict.append({\n",
    "        'DATE' : XmlToJson['feed']['entry'][i]['updated'],\n",
    "        'STAR' : XmlToJson['feed']['entry'][i]['im:rating'],\n",
    "        'LIKE' : XmlToJson['feed']['entry'][i]['im:voteSum'],\n",
    "        'DISLIKE' : int(XmlToJson['feed']['entry'][i]['im:voteCount']) - int(XmlToJson['feed']['entry'][i]['im:voteSum']),\n",
    "        'TITLE' : XmlToJson['feed']['entry'][i]['title'],\n",
    "        'REVIEW' : XmlToJson['feed']['entry'][i]['content'][0]['#text']\n",
    "    })"
   ]
  },
  {
   "cell_type": "code",
   "execution_count": null,
   "id": "c31a5321-8fb7-4424-9345-c0afb3e73798",
   "metadata": {
    "scrolled": true,
    "tags": []
   },
   "outputs": [],
   "source": [
    "# 잘 변환 되었는지 확인\n",
    "res_dict"
   ]
  },
  {
   "cell_type": "code",
   "execution_count": null,
   "id": "10f452d8-0452-4183-a6fa-568bf40d52f2",
   "metadata": {
    "scrolled": true,
    "tags": []
   },
   "outputs": [],
   "source": [
    "#ㅔpage 1 파싱 내용을 데이터프레임으로 담아줍니다 \n",
    "res_df = pd.DataFrame(res_dict)\n",
    "res_df"
   ]
  },
  {
   "cell_type": "code",
   "execution_count": null,
   "id": "cf0a270d-670c-48a3-8095-e467229adc9a",
   "metadata": {},
   "outputs": [],
   "source": [
    "#시계열 컬럼을 예쁘게 수정해주기\n",
    "res_df['DATE'] = pd.to_datetime(res_df['DATE'], format=\"%Y-%m-%dT%H:%M:%S-07:00\")\n",
    "res_df.head()"
   ]
  },
  {
   "cell_type": "markdown",
   "id": "69e47e88-fe3c-4ace-b738-56d725f5157c",
   "metadata": {},
   "source": [
    "### 2.1.4 반복문으로 page 1~ 10 까지 한번에 긁어오기"
   ]
  },
  {
   "cell_type": "code",
   "execution_count": null,
   "id": "1e8e604f-b078-41ed-adeb-c5d28b2e70d1",
   "metadata": {},
   "outputs": [],
   "source": [
    "res_dict = []\n",
    "for j in range(1,11):\n",
    "    url = 'https://itunes.apple.com/kr/rss/customerreviews/page=%i/id=1350301428/sortby=mostrecent/xml?urlDesc=/customerreviews/id=1350301428/sortBy=mostRecent/xml' % j\n",
    "    response = urlopen(url).read()\n",
    "\n",
    "    xml = xmltodict.parse(response)\n",
    "    XmlToJson = json.loads(json.dumps(xml))\n",
    "\n",
    "    for i in range(len(XmlToJson['feed']['entry'])):\n",
    "        res_dict.append({\n",
    "            'DATE' : XmlToJson['feed']['entry'][i]['updated'],\n",
    "            'STAR' : int(XmlToJson['feed']['entry'][i]['im:rating']),\n",
    "            'LIKE' : int(XmlToJson['feed']['entry'][i]['im:voteSum']),\n",
    "            'DISLIKE' : int(XmlToJson['feed']['entry'][i]['im:voteCount']) - int(XmlToJson['feed']['entry'][i]['im:voteSum']),\n",
    "            'TITLE' : XmlToJson['feed']['entry'][i]['title'],\n",
    "            'REVIEW' : XmlToJson['feed']['entry'][i]['content'][0]['#text']\n",
    "        })\n",
    "\n",
    "res_df = pd.DataFrame(res_dict)\n",
    "res_df['DATE'] = pd.to_datetime(res_df['DATE'], format=\"%Y-%m-%dT%H:%M:%S-07:00\")\n",
    "#csv로 저장\n",
    "res_df.to_csv('data/zepeto_kr_review.csv', index = False, encoding = 'utf-8')"
   ]
  },
  {
   "cell_type": "code",
   "execution_count": null,
   "id": "6f3cb14e-0645-43fc-8fdf-0ccf9b999998",
   "metadata": {},
   "outputs": [],
   "source": [
    "#잘 저장 되었는지 확인하기\n",
    "df = pd.read_csv('data/zepeto_kr_review.csv', encoding = 'utf-8')\n",
    "df.head()"
   ]
  },
  {
   "cell_type": "code",
   "execution_count": null,
   "id": "a68d7b10-dc2e-4efe-a561-d09d7a50ca49",
   "metadata": {},
   "outputs": [],
   "source": [
    "df['DATE'].sort_values(ascending = True)"
   ]
  },
  {
   "cell_type": "markdown",
   "id": "32be93bb-57a8-447b-ac0a-609718c96a7d",
   "metadata": {},
   "source": [
    "# 3 해외 유저 리뷰 크롤링"
   ]
  },
  {
   "cell_type": "markdown",
   "id": "9203242a-4b21-407e-8f5e-5b6107aaa414",
   "metadata": {},
   "source": [
    "## 3.1 미국(US) 서버 크롤링"
   ]
  },
  {
   "cell_type": "code",
   "execution_count": null,
   "id": "f1085645-605d-413f-a0fe-c5433a1eb02e",
   "metadata": {},
   "outputs": [],
   "source": [
    "res_dict = []\n",
    "for j in range(1,11):\n",
    "    url = 'https://itunes.apple.com/us/rss/customerreviews/page=%i/id=1350301428/sortby=mostrecent/xml?urlDesc=/customerreviews/id=1350301428/sortBy=mostRecent/xml' % j\n",
    "    response = urlopen(url).read()\n",
    "\n",
    "    xml = xmltodict.parse(response)\n",
    "    XmlToJson = json.loads(json.dumps(xml))\n",
    "\n",
    "    for i in range(len(XmlToJson['feed']['entry'])):\n",
    "        res_dict.append({\n",
    "            'DATE' : XmlToJson['feed']['entry'][i]['updated'],\n",
    "            'STAR' : int(XmlToJson['feed']['entry'][i]['im:rating']),\n",
    "            'LIKE' : int(XmlToJson['feed']['entry'][i]['im:voteSum']),\n",
    "            'DISLIKE' : int(XmlToJson['feed']['entry'][i]['im:voteCount']) - int(XmlToJson['feed']['entry'][i]['im:voteSum']),\n",
    "            'TITLE' : XmlToJson['feed']['entry'][i]['title'],\n",
    "            'REVIEW' : XmlToJson['feed']['entry'][i]['content'][0]['#text']\n",
    "        })\n",
    "\n",
    "res_df = pd.DataFrame(res_dict)\n",
    "res_df['DATE'] = pd.to_datetime(res_df['DATE'], format=\"%Y-%m-%dT%H:%M:%S-07:00\")\n",
    "#csv로 저장\n",
    "res_df.to_csv('data/zepeto_us_review.csv', index = False, encoding = 'utf-8')"
   ]
  },
  {
   "cell_type": "code",
   "execution_count": null,
   "id": "741e37fd-db90-4001-8efd-9943211edf2d",
   "metadata": {},
   "outputs": [],
   "source": [
    "#잘 저장 되었는지 확인하기\n",
    "df = pd.read_csv('data/zepeto_us_review.csv', encoding = 'utf-8')\n",
    "df.head()"
   ]
  },
  {
   "cell_type": "markdown",
   "id": "0a8ec7f6-95dc-49fd-9c2a-ecb7f6a386f4",
   "metadata": {},
   "source": [
    "## 3.2 일본(JP) 서버 크롤링"
   ]
  },
  {
   "cell_type": "code",
   "execution_count": null,
   "id": "c42dd76e-a593-4a3e-a8b8-56b098629f72",
   "metadata": {},
   "outputs": [],
   "source": [
    "res_dict = []\n",
    "for j in range(1,11):\n",
    "    url = 'https://itunes.apple.com/jp/rss/customerreviews/page=%i/id=1350301428/sortby=mostrecent/xml?urlDesc=/customerreviews/id=1350301428/sortBy=mostRecent/xml' % j\n",
    "    response = urlopen(url).read()\n",
    "\n",
    "    xml = xmltodict.parse(response)\n",
    "    XmlToJson = json.loads(json.dumps(xml))\n",
    "\n",
    "    for i in range(len(XmlToJson['feed']['entry'])):\n",
    "        res_dict.append({\n",
    "            'DATE' : XmlToJson['feed']['entry'][i]['updated'],\n",
    "            'STAR' : int(XmlToJson['feed']['entry'][i]['im:rating']),\n",
    "            'LIKE' : int(XmlToJson['feed']['entry'][i]['im:voteSum']),\n",
    "            'DISLIKE' : int(XmlToJson['feed']['entry'][i]['im:voteCount']) - int(XmlToJson['feed']['entry'][i]['im:voteSum']),\n",
    "            'TITLE' : XmlToJson['feed']['entry'][i]['title'],\n",
    "            'REVIEW' : XmlToJson['feed']['entry'][i]['content'][0]['#text']\n",
    "        })\n",
    "\n",
    "res_df = pd.DataFrame(res_dict)\n",
    "res_df['DATE'] = pd.to_datetime(res_df['DATE'], format=\"%Y-%m-%dT%H:%M:%S-07:00\")\n",
    "#csv로 저장\n",
    "res_df.to_csv('data/zepeto_jp_review.csv', index = False, encoding = 'utf-8')"
   ]
  },
  {
   "cell_type": "code",
   "execution_count": null,
   "id": "d31c28e6-6da2-4ca9-a410-dacc83cff422",
   "metadata": {},
   "outputs": [],
   "source": [
    "#잘 저장 되었는지 확인하기\n",
    "df = pd.read_csv('data/zepeto_jp_review.csv', encoding = 'utf-8')\n",
    "df.head()"
   ]
  },
  {
   "cell_type": "markdown",
   "id": "9e85b6ce-af69-4bcc-9f39-8f211fa3dfdf",
   "metadata": {
    "tags": []
   },
   "source": [
    "## 3.3 중국(cn) 서버 크롤링  -> 막힘 ㅠ "
   ]
  },
  {
   "cell_type": "code",
   "execution_count": 11,
   "id": "9ea99d79-53c4-4847-b16d-a1f113424bd8",
   "metadata": {},
   "outputs": [
    {
     "data": {
      "text/plain": [
       "b'<?xml version=\"1.0\" encoding=\"utf-8\"?>\\n\\n\\t<feed xmlns:im=\"http://itunes.apple.com/rss\" xmlns=\"http://www.w3.org/2005/Atom\" xml:lang=\"zh\">\\n\\t\\t<id>https://mzstoreservices-int-st.itunes.apple.com/cn/rss/customerreviews/page=1/id=1350301428/sortby=mostrecent/xml?urlDesc=/customerreviews/id=1350301428/sortBy=mostRecent/xml</id><title>iTunes Store\\xef\\xbc\\x9a\\xe7\\x94\\xa8\\xe6\\x88\\xb7\\xe8\\xaf\\x84\\xe8\\xae\\xba</title><updated>2022-07-24T02:15:18-07:00</updated><link rel=\"alternate\" type=\"text/html\" href=\"https://apps.apple.com/WebObjects/MZStore.woa/wa/viewGrouping?cc=cn&amp;id=29099\"/><link rel=\"self\" href=\"https://mzstoreservices-int-st.itunes.apple.com/cn/rss/customerreviews/page=1/id=1350301428/sortby=mostrecent/xml?urlDesc=/customerreviews/id=1350301428/sortBy=mostRecent/xml\"/><link rel=\"first\" href=\"\"/><link rel=\"last\" href=\"\"/><link rel=\"previous\" href=\"\"/><link rel=\"next\" href=\"\"/><icon>http://itunes.apple.com/favicon.ico</icon><author><name>iTunes Store</name><uri>http://www.apple.com/itunes/</uri></author><rights>Copyright 2008 Apple Inc.</rights>\\n\\t\\t\\n\\t</feed>\\n'"
      ]
     },
     "execution_count": 11,
     "metadata": {},
     "output_type": "execute_result"
    }
   ],
   "source": [
    "# 하단 url로 접속해서 xml데이터를 파싱할 것임 \n",
    "#reopen 함수를 사용하여 해당urk이 가지는 값을 가져온다\n",
    "url = 'https://itunes.apple.com/cn/rss/customerreviews/page=1/id=1350301428/sortby=mostrecent/xml?urlDesc=/customerreviews/id=1350301428/sortBy=mostRecent/xml'\n",
    "response = urlopen(url).read()\n",
    "response"
   ]
  },
  {
   "cell_type": "code",
   "execution_count": null,
   "id": "dacfda7c-e075-4a18-b127-8510519999a7",
   "metadata": {},
   "outputs": [],
   "source": [
    "res_dict = []\n",
    "for j in range(1,11):\n",
    "    url = 'https://itunes.apple.com/cn/rss/customerreviews/page=%i/id=1350301428/sortby=mostrecent/xml?urlDesc=/customerreviews/id=1350301428/sortBy=mostRecent/xml' % j\n",
    "    response = urlopen(url).read()\n",
    "\n",
    "    xml = xmltodict.parse(response)\n",
    "    XmlToJson = json.loads(json.dumps(xml))\n",
    "\n",
    "    for i in range(len(XmlToJson['feed']['entry'])):\n",
    "        res_dict.append({\n",
    "            'DATE' : XmlToJson['feed']['entry'][i]['updated'],\n",
    "            'STAR' : int(XmlToJson['feed']['entry'][i]['im:rating']),\n",
    "            'LIKE' : int(XmlToJson['feed']['entry'][i]['im:voteSum']),\n",
    "            'DISLIKE' : int(XmlToJson['feed']['entry'][i]['im:voteCount']) - int(XmlToJson['feed']['entry'][i]['im:voteSum']),\n",
    "            'TITLE' : XmlToJson['feed']['entry'][i]['title'],\n",
    "            'REVIEW' : XmlToJson['feed']['entry'][i]['content'][0]['#text']\n",
    "        })\n",
    "\n",
    "res_df = pd.DataFrame(res_dict)\n",
    "res_df['DATE'] = pd.to_datetime(res_df['DATE'], format=\"%Y-%m-%dT%H:%M:%S-07:00\")\n",
    "#csv로 저장\n",
    "res_df.to_csv('data/zepeto_jp_review.csv', index = False, encoding = 'utf-8')"
   ]
  },
  {
   "cell_type": "code",
   "execution_count": null,
   "id": "654c4dd4-21d1-4e4a-931b-49f91b024248",
   "metadata": {},
   "outputs": [],
   "source": []
  },
  {
   "cell_type": "code",
   "execution_count": null,
   "id": "e0bc03df-c52b-4ce4-9be2-52b521434115",
   "metadata": {},
   "outputs": [],
   "source": []
  },
  {
   "cell_type": "code",
   "execution_count": null,
   "id": "e48d8f42-8cfe-460b-ad7d-24f89586aa1d",
   "metadata": {},
   "outputs": [],
   "source": []
  },
  {
   "cell_type": "code",
   "execution_count": null,
   "id": "d61e9df6-2aa0-4494-b206-8ab795bf1306",
   "metadata": {},
   "outputs": [],
   "source": []
  },
  {
   "cell_type": "code",
   "execution_count": null,
   "id": "7d74607f-2596-49b1-ba8e-91e6c0230342",
   "metadata": {},
   "outputs": [],
   "source": []
  }
 ],
 "metadata": {
  "kernelspec": {
   "display_name": "Python 3 (ipykernel)",
   "language": "python",
   "name": "python3"
  },
  "language_info": {
   "codemirror_mode": {
    "name": "ipython",
    "version": 3
   },
   "file_extension": ".py",
   "mimetype": "text/x-python",
   "name": "python",
   "nbconvert_exporter": "python",
   "pygments_lexer": "ipython3",
   "version": "3.9.7"
  }
 },
 "nbformat": 4,
 "nbformat_minor": 5
}

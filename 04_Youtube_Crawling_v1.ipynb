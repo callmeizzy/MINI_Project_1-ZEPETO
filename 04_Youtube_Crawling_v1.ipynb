{
 "cells": [
  {
   "cell_type": "markdown",
   "id": "d1ff2875-15bf-4fb2-b5f9-12b55b5b7d5b",
   "metadata": {},
   "source": [
    "# 0 YouTube Crawling"
   ]
  },
  {
   "cell_type": "markdown",
   "id": "bb281e26-e49e-4070-a669-5d1fdaa32d7f",
   "metadata": {},
   "source": [
    "#### 유튜브 내 검색 결과의 콘텐츠 정보 자동 Scrap을 통하여 '제페토커스텀' 과 관련한 영상과 조회수를 알아본다\n",
    "https://github.com/park-gb/youtube-content-scaper"
   ]
  },
  {
   "cell_type": "markdown",
   "id": "1cb06d5c-6bbf-4693-8dc1-bfe6f07c3b40",
   "metadata": {},
   "source": [
    "# 1 라이브러리 로드 "
   ]
  },
  {
   "cell_type": "code",
   "execution_count": 1,
   "id": "c84e52a6-1bb7-4021-8610-0f213ef1b013",
   "metadata": {},
   "outputs": [],
   "source": [
    "# 크롤링에 필요한 라이브러리를 불러온다 \n",
    "from selenium import webdriver\n",
    "from selenium.webdriver.support.ui import WebDriverWait\n",
    "from selenium.webdriver.support import expected_conditions as EC\n",
    "from selenium.webdriver.common.by import By\n",
    "from selenium.webdriver.common.keys import Keys\n",
    "from webdriver_manager.chrome import ChromeDriverManager\n",
    "from bs4 import BeautifulSoup"
   ]
  },
  {
   "cell_type": "code",
   "execution_count": 2,
   "id": "b0fec92b-f4a7-4de6-b901-8993ed595440",
   "metadata": {},
   "outputs": [
    {
     "name": "stdout",
     "output_type": "stream",
     "text": [
      "\n"
     ]
    },
    {
     "name": "stderr",
     "output_type": "stream",
     "text": [
      "[WDM] - ====== WebDriver manager ======\n",
      "[WDM] - Current google-chrome version is 103.0.5060\n",
      "[WDM] - Get LATEST chromedriver version for 103.0.5060 google-chrome\n",
      "[WDM] - Driver [C:\\Users\\LG\\.wdm\\drivers\\chromedriver\\win32\\103.0.5060.134\\chromedriver.exe] found in cache\n"
     ]
    }
   ],
   "source": [
    "# 최신 크롬 드라이버 사용하도록 세팅: 현재 OS에 설치된 크롬 브라우저 버전에 맞게 cache에 드라이버 설치\n",
    "from selenium.webdriver.chrome.service import Service\n",
    "service = Service(ChromeDriverManager().install())"
   ]
  },
  {
   "cell_type": "code",
   "execution_count": 3,
   "id": "85dade57-5d17-4f28-9982-570ec0e4cc5b",
   "metadata": {},
   "outputs": [],
   "source": [
    "#판다스를 통하여 수집한 데이터들을 데이터프레임으로 만들어 줄 예정이다\n",
    "import time\n",
    "import random\n",
    "import pandas as pd"
   ]
  },
  {
   "cell_type": "markdown",
   "id": "48c2ecd7-b780-4500-9adb-e645c921c888",
   "metadata": {},
   "source": [
    "# 2 무한 스크롤 함수 셋팅"
   ]
  },
  {
   "cell_type": "markdown",
   "id": "a38b111d-e732-4ffa-ad65-1c52e975df61",
   "metadata": {},
   "source": [
    "## 1) 기능 - 콘텐츠 로딩을 충분히 기다리며 스크롤이 불가할 때 까지 스크롤을 무한 반복하는 함수"
   ]
  },
  {
   "cell_type": "markdown",
   "id": "bb8f6def-9d3f-4c9b-9f14-f6874db59953",
   "metadata": {},
   "source": [
    "## 2) 역할 - 유튜브 웹 페이지는 스크롤을 해야 새로운 콘텐츠 정보를 제공하기 때문에, 모든 검색 결과를 확인하기 위해서는 무한 스크롤 기능이 필요하다"
   ]
  },
  {
   "cell_type": "code",
   "execution_count": 4,
   "id": "1e81a813-39f1-4185-b97a-9dd2c26c0613",
   "metadata": {},
   "outputs": [],
   "source": [
    "def scroll():\n",
    "    try:        \n",
    "        # 페이지 내 스크롤 높이 받아오기\n",
    "        last_page_height = driver.execute_script(\"return document.documentElement.scrollHeight\")\n",
    "        while True:\n",
    "            # 임의의 페이지 로딩 시간 설정\n",
    "            # PC환경에 따라 로딩시간 최적화를 통해 scraping 시간 단축 가능\n",
    "            pause_time = random.uniform(1, 2)\n",
    "            # 페이지 최하단까지 스크롤\n",
    "            driver.execute_script(\"window.scrollTo(0, document.documentElement.scrollHeight);\")\n",
    "            # 페이지 로딩 대기\n",
    "            time.sleep(pause_time)\n",
    "            # 무한 스크롤 동작을 위해 살짝 위로 스크롤(i.e., 페이지를 위로 올렸다가 내리는 제스쳐)\n",
    "            driver.execute_script(\"window.scrollTo(0, document.documentElement.scrollHeight-50)\")\n",
    "            time.sleep(pause_time)\n",
    "            # 페이지 내 스크롤 높이 새롭게 받아오기\n",
    "            new_page_height = driver.execute_script(\"return document.documentElement.scrollHeight\")\n",
    "            # 스크롤을 완료한 경우(더이상 페이지 높이 변화가 없는 경우)\n",
    "            if new_page_height == last_page_height:\n",
    "                print(\"스크롤 완료\")\n",
    "                break\n",
    "                \n",
    "            # 스크롤 완료하지 않은 경우, 최하단까지 스크롤\n",
    "            else:\n",
    "                last_page_height = new_page_height\n",
    "            \n",
    "    except Exception as e:\n",
    "        print(\"에러 발생: \", e)"
   ]
  },
  {
   "cell_type": "markdown",
   "id": "8f441d6b-1608-4d0e-a567-611509837c41",
   "metadata": {},
   "source": [
    "# 3 데이터 스크랩"
   ]
  },
  {
   "cell_type": "code",
   "execution_count": 5,
   "id": "30638fa5-d34d-482f-b0c4-0b1d649d5d12",
   "metadata": {},
   "outputs": [],
   "source": [
    "# 검색 키워드 설정: 키워드 내 띄어쓰기는 URL에서 '+'로 표시되기 때문에 이에 맞게 변환\n",
    "SEARCH_KEYWORD = '제페토커스텀'.replace(' ', '+')"
   ]
  },
  {
   "cell_type": "code",
   "execution_count": 6,
   "id": "068e6970-c15e-48bf-b6ef-83c973135f58",
   "metadata": {},
   "outputs": [
    {
     "name": "stdout",
     "output_type": "stream",
     "text": [
      "스크롤 완료\n"
     ]
    }
   ],
   "source": [
    "driver = webdriver.Chrome(service=service)\n",
    "# 스크래핑 할 URL 세팅\n",
    "URL = \"https://www.youtube.com/results?search_query=\" + SEARCH_KEYWORD\n",
    "# 크롬 드라이버를 통해 지정한 URL의 웹 페이지 오픈\n",
    "driver.get(URL)\n",
    "# 웹 페이지 로딩 대기\n",
    "time.sleep(3)\n",
    "# 무한 스크롤 함수 실행\n",
    "scroll()"
   ]
  },
  {
   "cell_type": "code",
   "execution_count": 19,
   "id": "ddd0ab31-ac95-4dbc-9e65-1e1dbff6c582",
   "metadata": {},
   "outputs": [],
   "source": [
    "# 페이지 소스 추출\n",
    "html_source = driver.page_source\n",
    "soup_source = BeautifulSoup(html_source, 'html.parser')"
   ]
  },
  {
   "cell_type": "markdown",
   "id": "1775b3df-efef-43f6-aec0-7a34461cb787",
   "metadata": {},
   "source": [
    "# 4 데이터 추출"
   ]
  },
  {
   "cell_type": "code",
   "execution_count": 20,
   "id": "17409691-ce9b-4e61-b504-9b18819fef7d",
   "metadata": {},
   "outputs": [],
   "source": [
    "# 모든 콘텐츠 정보\n",
    "content_total = soup_source.find_all(class_ = 'yt-simple-endpoint style-scope ytd-video-renderer')\n",
    "# 콘텐츠 제목만 추출\n",
    "content_total_title = list(map(lambda data: data.get_text().replace(\"\\n\", \"\"), content_total))\n",
    "# 콘텐츠 url만 추출\n",
    "content_total_view = list(map(lambda data: \"https://youtube.com\" + data[\"href\"], content_total))\n",
    "# 딕셔너리 포맷팅\n",
    "content_total_dict = {'title' : content_total_title, 'view': content_total_view}"
   ]
  },
  {
   "cell_type": "markdown",
   "id": "83a23e99-7c11-452d-a31a-aef35a6fff3d",
   "metadata": {},
   "source": [
    "# 5 데이터프레임 저장"
   ]
  },
  {
   "cell_type": "code",
   "execution_count": 21,
   "id": "7f5d3651-5fb2-4706-bc4f-5cf4760126c3",
   "metadata": {},
   "outputs": [],
   "source": [
    "df = pd.DataFrame(content_total_dict)\n",
    "df.to_csv(\"data/content_total.csv\", encoding='utf-8-sig')"
   ]
  },
  {
   "cell_type": "code",
   "execution_count": 22,
   "id": "ed80cef8-373e-4620-9f8e-65c5cdcab5d1",
   "metadata": {},
   "outputs": [
    {
     "data": {
      "text/html": [
       "<div>\n",
       "<style scoped>\n",
       "    .dataframe tbody tr th:only-of-type {\n",
       "        vertical-align: middle;\n",
       "    }\n",
       "\n",
       "    .dataframe tbody tr th {\n",
       "        vertical-align: top;\n",
       "    }\n",
       "\n",
       "    .dataframe thead th {\n",
       "        text-align: right;\n",
       "    }\n",
       "</style>\n",
       "<table border=\"1\" class=\"dataframe\">\n",
       "  <thead>\n",
       "    <tr style=\"text-align: right;\">\n",
       "      <th></th>\n",
       "      <th>title</th>\n",
       "      <th>view</th>\n",
       "    </tr>\n",
       "  </thead>\n",
       "  <tbody>\n",
       "    <tr>\n",
       "      <th>0</th>\n",
       "      <td>[제페토 커스텀] 청초한 제페토 커스텀 하는법! (설명 참고)</td>\n",
       "      <td>https://youtube.com/watch?v=Dj0lFDGnp0c</td>\n",
       "    </tr>\n",
       "    <tr>\n",
       "      <th>1</th>\n",
       "      <td>[제페토 커스텀] 도도한 고양이상 제페토 커스텀 하는법 (설명 참고)</td>\n",
       "      <td>https://youtube.com/watch?v=oktexgUqLaQ</td>\n",
       "    </tr>\n",
       "    <tr>\n",
       "      <th>2</th>\n",
       "      <td>[ 제페토 커스텀 2탄 ] 동글동글 귀여운 제페토 커스텀 / 제페토 커스텀 / 제페...</td>\n",
       "      <td>https://youtube.com/watch?v=qdQYM-vmNzU</td>\n",
       "    </tr>\n",
       "    <tr>\n",
       "      <th>3</th>\n",
       "      <td>[제페토] 성숙한 커스텀 얼굴 만들기!</td>\n",
       "      <td>https://youtube.com/watch?v=5tnYs9EdILU</td>\n",
       "    </tr>\n",
       "    <tr>\n",
       "      <th>4</th>\n",
       "      <td>여우상 커스텀 (팔로우하고 따라하세요 o._911)</td>\n",
       "      <td>https://youtube.com/watch?v=1SuFqDb4dA8</td>\n",
       "    </tr>\n",
       "    <tr>\n",
       "      <th>...</th>\n",
       "      <td>...</td>\n",
       "      <td>...</td>\n",
       "    </tr>\n",
       "    <tr>\n",
       "      <th>184</th>\n",
       "      <td>제페토 커스텀</td>\n",
       "      <td>https://youtube.com/shorts/ct3d8GbYK3w</td>\n",
       "    </tr>\n",
       "    <tr>\n",
       "      <th>185</th>\n",
       "      <td>여캐 제페토 커스텀강좌💕/인싸커스텀/예쁜커스텀/제페토커스텀/월령커스텀</td>\n",
       "      <td>https://youtube.com/watch?v=plEdMCkYLqg</td>\n",
       "    </tr>\n",
       "    <tr>\n",
       "      <th>186</th>\n",
       "      <td>제페토 커스텀-귀여운 얼굴 만들기</td>\n",
       "      <td>https://youtube.com/watch?v=bkC7VZtMock</td>\n",
       "    </tr>\n",
       "    <tr>\n",
       "      <th>187</th>\n",
       "      <td>[제페토 커스텀] 귀여운 아가 커스텀 🤍/zepeto / 제페토 커스텀 #제페토 #...</td>\n",
       "      <td>https://youtube.com/watch?v=veIn5T-pphM</td>\n",
       "    </tr>\n",
       "    <tr>\n",
       "      <th>188</th>\n",
       "      <td>제페토 커스텀 강좌(출처 필수)</td>\n",
       "      <td>https://youtube.com/shorts/XHSihveaMlo</td>\n",
       "    </tr>\n",
       "  </tbody>\n",
       "</table>\n",
       "<p>189 rows × 2 columns</p>\n",
       "</div>"
      ],
      "text/plain": [
       "                                                 title  \\\n",
       "0                   [제페토 커스텀] 청초한 제페토 커스텀 하는법! (설명 참고)   \n",
       "1               [제페토 커스텀] 도도한 고양이상 제페토 커스텀 하는법 (설명 참고)   \n",
       "2    [ 제페토 커스텀 2탄 ] 동글동글 귀여운 제페토 커스텀 / 제페토 커스텀 / 제페...   \n",
       "3                                [제페토] 성숙한 커스텀 얼굴 만들기!   \n",
       "4                         여우상 커스텀 (팔로우하고 따라하세요 o._911)   \n",
       "..                                                 ...   \n",
       "184                                            제페토 커스텀   \n",
       "185             여캐 제페토 커스텀강좌💕/인싸커스텀/예쁜커스텀/제페토커스텀/월령커스텀   \n",
       "186                                 제페토 커스텀-귀여운 얼굴 만들기   \n",
       "187  [제페토 커스텀] 귀여운 아가 커스텀 🤍/zepeto / 제페토 커스텀 #제페토 #...   \n",
       "188                                  제페토 커스텀 강좌(출처 필수)   \n",
       "\n",
       "                                        view  \n",
       "0    https://youtube.com/watch?v=Dj0lFDGnp0c  \n",
       "1    https://youtube.com/watch?v=oktexgUqLaQ  \n",
       "2    https://youtube.com/watch?v=qdQYM-vmNzU  \n",
       "3    https://youtube.com/watch?v=5tnYs9EdILU  \n",
       "4    https://youtube.com/watch?v=1SuFqDb4dA8  \n",
       "..                                       ...  \n",
       "184   https://youtube.com/shorts/ct3d8GbYK3w  \n",
       "185  https://youtube.com/watch?v=plEdMCkYLqg  \n",
       "186  https://youtube.com/watch?v=bkC7VZtMock  \n",
       "187  https://youtube.com/watch?v=veIn5T-pphM  \n",
       "188   https://youtube.com/shorts/XHSihveaMlo  \n",
       "\n",
       "[189 rows x 2 columns]"
      ]
     },
     "execution_count": 22,
     "metadata": {},
     "output_type": "execute_result"
    }
   ],
   "source": [
    "df"
   ]
  },
  {
   "cell_type": "code",
   "execution_count": null,
   "id": "3ba7d77d-e80e-4b4d-aa63-536ad5df2aa8",
   "metadata": {},
   "outputs": [],
   "source": []
  }
 ],
 "metadata": {
  "kernelspec": {
   "display_name": "Python 3 (ipykernel)",
   "language": "python",
   "name": "python3"
  },
  "language_info": {
   "codemirror_mode": {
    "name": "ipython",
    "version": 3
   },
   "file_extension": ".py",
   "mimetype": "text/x-python",
   "name": "python",
   "nbconvert_exporter": "python",
   "pygments_lexer": "ipython3",
   "version": "3.9.7"
  }
 },
 "nbformat": 4,
 "nbformat_minor": 5
}
